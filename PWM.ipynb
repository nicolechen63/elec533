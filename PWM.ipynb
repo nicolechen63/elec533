{
 "cells": [
  {
   "cell_type": "code",
   "execution_count": 66,
   "metadata": {},
   "outputs": [],
   "source": [
    "import time\n"
   ]
  },
  {
   "cell_type": "code",
   "execution_count": 74,
   "metadata": {},
   "outputs": [],
   "source": [
    "def set_direction(value):\n",
    "    value = max(-100, min(100, value))\n",
    "    pwd = str(int(value * 2000 + 1500000))\n",
    "    with open('/dev/bone/pwm/1/b/duty_cycle', 'w') as filetowrite:\n",
    "        filetowrite.write(pwd)\n",
    "\n",
    "def set_speed(value):\n",
    "    value = max(0, min(100, value))\n",
    "    pwd = str(int(value * 4000 + 1550000))\n",
    "    with open('/dev/bone/pwm/1/b/duty_cycle', 'w') as filetowrite:\n",
    "        filetowrite.write(pwd)"
   ]
  },
  {
   "cell_type": "code",
   "execution_count": 61,
   "metadata": {},
   "outputs": [],
   "source": [
    "# init PWM\n",
    "# P9_14 - Speed/ESC\n",
    "with open('/dev/bone/pwm/1/a/period', 'w') as filetowrite:\n",
    "    filetowrite.write('20000000')\n",
    "with open('/dev/bone/pwm/1/a/duty_cycle', 'w') as filetowrite:\n",
    "    filetowrite.write('1550000')\n",
    "with open('/dev/bone/pwm/1/a/enable', 'w') as filetowrite:\n",
    "    filetowrite.write('1')\n",
    "# P9_16 - Steering\n",
    "with open('/dev/bone/pwm/1/b/period', 'w') as filetowrite:\n",
    "    filetowrite.write('20000000')\n",
    "with open('/dev/bone/pwm/1/b/duty_cycle', 'w') as filetowrite:\n",
    "    filetowrite.write('1500000')\n",
    "with open('/dev/bone/pwm/1/b/enable', 'w') as filetowrite:\n",
    "    filetowrite.write('1')\n",
    "time.sleep(10)\n"
   ]
  },
  {
   "cell_type": "code",
   "execution_count": 31,
   "metadata": {},
   "outputs": [],
   "source": [
    "# test PWD\n",
    "set_direction(100)\n",
    "time.sleep(3)\n",
    "set_direction(-100)\n",
    "time.sleep(3)\n",
    "set_direction(0)\n",
    "time.sleep(3)\n",
    "set_speed(20)\n",
    "time.sleep(3)\n",
    "set_speed(0)\n"
   ]
  },
  {
   "cell_type": "code",
   "execution_count": null,
   "metadata": {},
   "outputs": [],
   "source": []
  }
 ],
 "metadata": {
  "kernelspec": {
   "display_name": "Python 3.9.2 64-bit",
   "language": "python",
   "name": "python3"
  },
  "language_info": {
   "codemirror_mode": {
    "name": "ipython",
    "version": 3
   },
   "file_extension": ".py",
   "mimetype": "text/x-python",
   "name": "python",
   "nbconvert_exporter": "python",
   "pygments_lexer": "ipython3",
   "version": "3.9.2"
  },
  "orig_nbformat": 4,
  "vscode": {
   "interpreter": {
    "hash": "767d51c1340bd893661ea55ea3124f6de3c7a262a8b4abca0554b478b1e2ff90"
   }
  }
 },
 "nbformat": 4,
 "nbformat_minor": 2
}
